{
 "cells": [
  {
   "cell_type": "code",
   "execution_count": 67,
   "id": "066bfdfa-df5f-4912-93f6-1b91b630ff45",
   "metadata": {},
   "outputs": [],
   "source": [
    "import pandas as pd\n",
    "import os\n",
    "import matplotlib.pyplot as plt\n",
    "import seaborn as sns\n",
    "from dotenv import load_dotenv\n",
    "\n",
    "load_dotenv()\n",
    "\n",
    "directory = os.getenv('DIR')\n",
    "df_final_demo_csv = os.getenv('CSV1')\n",
    "df_final_experiment_clients_csv = os.getenv('CSV2')\n",
    "df_final_web_data_pt_1_csv = os.getenv('CSV3')\n",
    "df_final_web_data_pt_2_csv = os.getenv('CSV4')\n",
    "\n",
    "df_client = pd.read_csv(directory+df_final_demo_csv)\n",
    "df_interaction1 = pd.read_csv(directory+df_final_web_data_pt_1_csv)\n",
    "df_interaction2 = pd.read_csv(directory+df_final_web_data_pt_2_csv)\n",
    "df_variation = pd.read_csv(directory+df_final_experiment_clients_csv)"
   ]
  },
  {
   "cell_type": "markdown",
   "id": "539c1194-9d50-4ff7-b264-11dc0cd3d408",
   "metadata": {},
   "source": [
    "**Start Analyze**"
   ]
  },
  {
   "cell_type": "code",
   "execution_count": 68,
   "id": "cf505715-1702-4919-842c-8509f466d529",
   "metadata": {},
   "outputs": [
    {
     "name": "stdout",
     "output_type": "stream",
     "text": [
      "          client_id  clnt_tenure_yr  clnt_tenure_mnth      clnt_age  \\\n",
      "count  7.060900e+04    70595.000000      70595.000000  70594.000000   \n",
      "mean   5.004992e+06       12.052950        150.659367     46.442240   \n",
      "std    2.877278e+06        6.871819         82.089854     15.591273   \n",
      "min    1.690000e+02        2.000000         33.000000     13.500000   \n",
      "25%    2.519329e+06        6.000000         82.000000     32.500000   \n",
      "50%    5.016978e+06       11.000000        136.000000     47.000000   \n",
      "75%    7.483085e+06       16.000000        192.000000     59.000000   \n",
      "max    9.999839e+06       62.000000        749.000000     96.000000   \n",
      "\n",
      "          num_accts           bal  calls_6_mnth  logons_6_mnth  \n",
      "count  70595.000000  7.059500e+04  70595.000000   70595.000000  \n",
      "mean       2.255528  1.474452e+05      3.382478       5.566740  \n",
      "std        0.534997  3.015087e+05      2.236580       2.353286  \n",
      "min        1.000000  1.378942e+04      0.000000       1.000000  \n",
      "25%        2.000000  3.734683e+04      1.000000       4.000000  \n",
      "50%        2.000000  6.333290e+04      3.000000       5.000000  \n",
      "75%        2.000000  1.375449e+05      6.000000       7.000000  \n",
      "max        8.000000  1.632004e+07      7.000000       9.000000  \n"
     ]
    },
    {
     "data": {
      "text/html": [
       "<div>\n",
       "<style scoped>\n",
       "    .dataframe tbody tr th:only-of-type {\n",
       "        vertical-align: middle;\n",
       "    }\n",
       "\n",
       "    .dataframe tbody tr th {\n",
       "        vertical-align: top;\n",
       "    }\n",
       "\n",
       "    .dataframe thead th {\n",
       "        text-align: right;\n",
       "    }\n",
       "</style>\n",
       "<table border=\"1\" class=\"dataframe\">\n",
       "  <thead>\n",
       "    <tr style=\"text-align: right;\">\n",
       "      <th></th>\n",
       "      <th>client_id</th>\n",
       "      <th>clnt_tenure_yr</th>\n",
       "      <th>clnt_tenure_mnth</th>\n",
       "      <th>clnt_age</th>\n",
       "      <th>gendr</th>\n",
       "      <th>num_accts</th>\n",
       "      <th>bal</th>\n",
       "      <th>calls_6_mnth</th>\n",
       "      <th>logons_6_mnth</th>\n",
       "    </tr>\n",
       "  </thead>\n",
       "  <tbody>\n",
       "    <tr>\n",
       "      <th>0</th>\n",
       "      <td>836976</td>\n",
       "      <td>6.0</td>\n",
       "      <td>73.0</td>\n",
       "      <td>60.5</td>\n",
       "      <td>U</td>\n",
       "      <td>2.0</td>\n",
       "      <td>45105.30</td>\n",
       "      <td>6.0</td>\n",
       "      <td>9.0</td>\n",
       "    </tr>\n",
       "    <tr>\n",
       "      <th>1</th>\n",
       "      <td>2304905</td>\n",
       "      <td>7.0</td>\n",
       "      <td>94.0</td>\n",
       "      <td>58.0</td>\n",
       "      <td>U</td>\n",
       "      <td>2.0</td>\n",
       "      <td>110860.30</td>\n",
       "      <td>6.0</td>\n",
       "      <td>9.0</td>\n",
       "    </tr>\n",
       "    <tr>\n",
       "      <th>2</th>\n",
       "      <td>1439522</td>\n",
       "      <td>5.0</td>\n",
       "      <td>64.0</td>\n",
       "      <td>32.0</td>\n",
       "      <td>U</td>\n",
       "      <td>2.0</td>\n",
       "      <td>52467.79</td>\n",
       "      <td>6.0</td>\n",
       "      <td>9.0</td>\n",
       "    </tr>\n",
       "    <tr>\n",
       "      <th>3</th>\n",
       "      <td>1562045</td>\n",
       "      <td>16.0</td>\n",
       "      <td>198.0</td>\n",
       "      <td>49.0</td>\n",
       "      <td>M</td>\n",
       "      <td>2.0</td>\n",
       "      <td>67454.65</td>\n",
       "      <td>3.0</td>\n",
       "      <td>6.0</td>\n",
       "    </tr>\n",
       "    <tr>\n",
       "      <th>4</th>\n",
       "      <td>5126305</td>\n",
       "      <td>12.0</td>\n",
       "      <td>145.0</td>\n",
       "      <td>33.0</td>\n",
       "      <td>F</td>\n",
       "      <td>2.0</td>\n",
       "      <td>103671.75</td>\n",
       "      <td>0.0</td>\n",
       "      <td>3.0</td>\n",
       "    </tr>\n",
       "    <tr>\n",
       "      <th>...</th>\n",
       "      <td>...</td>\n",
       "      <td>...</td>\n",
       "      <td>...</td>\n",
       "      <td>...</td>\n",
       "      <td>...</td>\n",
       "      <td>...</td>\n",
       "      <td>...</td>\n",
       "      <td>...</td>\n",
       "      <td>...</td>\n",
       "    </tr>\n",
       "    <tr>\n",
       "      <th>70604</th>\n",
       "      <td>7993686</td>\n",
       "      <td>4.0</td>\n",
       "      <td>56.0</td>\n",
       "      <td>38.5</td>\n",
       "      <td>U</td>\n",
       "      <td>3.0</td>\n",
       "      <td>1411062.68</td>\n",
       "      <td>5.0</td>\n",
       "      <td>5.0</td>\n",
       "    </tr>\n",
       "    <tr>\n",
       "      <th>70605</th>\n",
       "      <td>8981690</td>\n",
       "      <td>12.0</td>\n",
       "      <td>148.0</td>\n",
       "      <td>31.0</td>\n",
       "      <td>M</td>\n",
       "      <td>2.0</td>\n",
       "      <td>101867.07</td>\n",
       "      <td>6.0</td>\n",
       "      <td>6.0</td>\n",
       "    </tr>\n",
       "    <tr>\n",
       "      <th>70606</th>\n",
       "      <td>333913</td>\n",
       "      <td>16.0</td>\n",
       "      <td>198.0</td>\n",
       "      <td>61.5</td>\n",
       "      <td>F</td>\n",
       "      <td>2.0</td>\n",
       "      <td>40745.00</td>\n",
       "      <td>3.0</td>\n",
       "      <td>3.0</td>\n",
       "    </tr>\n",
       "    <tr>\n",
       "      <th>70607</th>\n",
       "      <td>1573142</td>\n",
       "      <td>21.0</td>\n",
       "      <td>255.0</td>\n",
       "      <td>68.0</td>\n",
       "      <td>M</td>\n",
       "      <td>3.0</td>\n",
       "      <td>475114.69</td>\n",
       "      <td>4.0</td>\n",
       "      <td>4.0</td>\n",
       "    </tr>\n",
       "    <tr>\n",
       "      <th>70608</th>\n",
       "      <td>5602139</td>\n",
       "      <td>21.0</td>\n",
       "      <td>254.0</td>\n",
       "      <td>59.5</td>\n",
       "      <td>F</td>\n",
       "      <td>3.0</td>\n",
       "      <td>157498.73</td>\n",
       "      <td>7.0</td>\n",
       "      <td>7.0</td>\n",
       "    </tr>\n",
       "  </tbody>\n",
       "</table>\n",
       "<p>70609 rows × 9 columns</p>\n",
       "</div>"
      ],
      "text/plain": [
       "       client_id  clnt_tenure_yr  clnt_tenure_mnth  clnt_age gendr  num_accts  \\\n",
       "0         836976             6.0              73.0      60.5     U        2.0   \n",
       "1        2304905             7.0              94.0      58.0     U        2.0   \n",
       "2        1439522             5.0              64.0      32.0     U        2.0   \n",
       "3        1562045            16.0             198.0      49.0     M        2.0   \n",
       "4        5126305            12.0             145.0      33.0     F        2.0   \n",
       "...          ...             ...               ...       ...   ...        ...   \n",
       "70604    7993686             4.0              56.0      38.5     U        3.0   \n",
       "70605    8981690            12.0             148.0      31.0     M        2.0   \n",
       "70606     333913            16.0             198.0      61.5     F        2.0   \n",
       "70607    1573142            21.0             255.0      68.0     M        3.0   \n",
       "70608    5602139            21.0             254.0      59.5     F        3.0   \n",
       "\n",
       "              bal  calls_6_mnth  logons_6_mnth  \n",
       "0        45105.30           6.0            9.0  \n",
       "1       110860.30           6.0            9.0  \n",
       "2        52467.79           6.0            9.0  \n",
       "3        67454.65           3.0            6.0  \n",
       "4       103671.75           0.0            3.0  \n",
       "...           ...           ...            ...  \n",
       "70604  1411062.68           5.0            5.0  \n",
       "70605   101867.07           6.0            6.0  \n",
       "70606    40745.00           3.0            3.0  \n",
       "70607   475114.69           4.0            4.0  \n",
       "70608   157498.73           7.0            7.0  \n",
       "\n",
       "[70609 rows x 9 columns]"
      ]
     },
     "metadata": {},
     "output_type": "display_data"
    }
   ],
   "source": [
    "print(df_client.describe())\n",
    "display(df_client)"
   ]
  },
  {
   "cell_type": "code",
   "execution_count": 69,
   "id": "b921739f-8df1-484e-8983-cbaa8c57dcac",
   "metadata": {},
   "outputs": [
    {
     "name": "stdout",
     "output_type": "stream",
     "text": [
      "          client_id\n",
      "count  3.431410e+05\n",
      "mean   4.996097e+06\n",
      "std    2.875839e+06\n",
      "min    1.690000e+02\n",
      "25%    2.506067e+06\n",
      "50%    5.007915e+06\n",
      "75%    7.468519e+06\n",
      "max    9.999839e+06\n"
     ]
    },
    {
     "data": {
      "text/html": [
       "<div>\n",
       "<style scoped>\n",
       "    .dataframe tbody tr th:only-of-type {\n",
       "        vertical-align: middle;\n",
       "    }\n",
       "\n",
       "    .dataframe tbody tr th {\n",
       "        vertical-align: top;\n",
       "    }\n",
       "\n",
       "    .dataframe thead th {\n",
       "        text-align: right;\n",
       "    }\n",
       "</style>\n",
       "<table border=\"1\" class=\"dataframe\">\n",
       "  <thead>\n",
       "    <tr style=\"text-align: right;\">\n",
       "      <th></th>\n",
       "      <th>client_id</th>\n",
       "      <th>visitor_id</th>\n",
       "      <th>visit_id</th>\n",
       "      <th>process_step</th>\n",
       "      <th>date_time</th>\n",
       "    </tr>\n",
       "  </thead>\n",
       "  <tbody>\n",
       "    <tr>\n",
       "      <th>0</th>\n",
       "      <td>9988021</td>\n",
       "      <td>580560515_7732621733</td>\n",
       "      <td>781255054_21935453173_531117</td>\n",
       "      <td>step_3</td>\n",
       "      <td>2017-04-17 15:27:07</td>\n",
       "    </tr>\n",
       "    <tr>\n",
       "      <th>1</th>\n",
       "      <td>9988021</td>\n",
       "      <td>580560515_7732621733</td>\n",
       "      <td>781255054_21935453173_531117</td>\n",
       "      <td>step_2</td>\n",
       "      <td>2017-04-17 15:26:51</td>\n",
       "    </tr>\n",
       "    <tr>\n",
       "      <th>2</th>\n",
       "      <td>9988021</td>\n",
       "      <td>580560515_7732621733</td>\n",
       "      <td>781255054_21935453173_531117</td>\n",
       "      <td>step_3</td>\n",
       "      <td>2017-04-17 15:19:22</td>\n",
       "    </tr>\n",
       "    <tr>\n",
       "      <th>3</th>\n",
       "      <td>9988021</td>\n",
       "      <td>580560515_7732621733</td>\n",
       "      <td>781255054_21935453173_531117</td>\n",
       "      <td>step_2</td>\n",
       "      <td>2017-04-17 15:19:13</td>\n",
       "    </tr>\n",
       "    <tr>\n",
       "      <th>4</th>\n",
       "      <td>9988021</td>\n",
       "      <td>580560515_7732621733</td>\n",
       "      <td>781255054_21935453173_531117</td>\n",
       "      <td>step_3</td>\n",
       "      <td>2017-04-17 15:18:04</td>\n",
       "    </tr>\n",
       "    <tr>\n",
       "      <th>...</th>\n",
       "      <td>...</td>\n",
       "      <td>...</td>\n",
       "      <td>...</td>\n",
       "      <td>...</td>\n",
       "      <td>...</td>\n",
       "    </tr>\n",
       "    <tr>\n",
       "      <th>343136</th>\n",
       "      <td>2443347</td>\n",
       "      <td>465784886_73090545671</td>\n",
       "      <td>136329900_10529659391_316129</td>\n",
       "      <td>confirm</td>\n",
       "      <td>2017-03-31 15:15:46</td>\n",
       "    </tr>\n",
       "    <tr>\n",
       "      <th>343137</th>\n",
       "      <td>2443347</td>\n",
       "      <td>465784886_73090545671</td>\n",
       "      <td>136329900_10529659391_316129</td>\n",
       "      <td>step_3</td>\n",
       "      <td>2017-03-31 15:14:53</td>\n",
       "    </tr>\n",
       "    <tr>\n",
       "      <th>343138</th>\n",
       "      <td>2443347</td>\n",
       "      <td>465784886_73090545671</td>\n",
       "      <td>136329900_10529659391_316129</td>\n",
       "      <td>step_2</td>\n",
       "      <td>2017-03-31 15:12:08</td>\n",
       "    </tr>\n",
       "    <tr>\n",
       "      <th>343139</th>\n",
       "      <td>2443347</td>\n",
       "      <td>465784886_73090545671</td>\n",
       "      <td>136329900_10529659391_316129</td>\n",
       "      <td>step_1</td>\n",
       "      <td>2017-03-31 15:11:37</td>\n",
       "    </tr>\n",
       "    <tr>\n",
       "      <th>343140</th>\n",
       "      <td>2443347</td>\n",
       "      <td>465784886_73090545671</td>\n",
       "      <td>136329900_10529659391_316129</td>\n",
       "      <td>start</td>\n",
       "      <td>2017-03-31 15:10:47</td>\n",
       "    </tr>\n",
       "  </tbody>\n",
       "</table>\n",
       "<p>343141 rows × 5 columns</p>\n",
       "</div>"
      ],
      "text/plain": [
       "        client_id             visitor_id                      visit_id  \\\n",
       "0         9988021   580560515_7732621733  781255054_21935453173_531117   \n",
       "1         9988021   580560515_7732621733  781255054_21935453173_531117   \n",
       "2         9988021   580560515_7732621733  781255054_21935453173_531117   \n",
       "3         9988021   580560515_7732621733  781255054_21935453173_531117   \n",
       "4         9988021   580560515_7732621733  781255054_21935453173_531117   \n",
       "...           ...                    ...                           ...   \n",
       "343136    2443347  465784886_73090545671  136329900_10529659391_316129   \n",
       "343137    2443347  465784886_73090545671  136329900_10529659391_316129   \n",
       "343138    2443347  465784886_73090545671  136329900_10529659391_316129   \n",
       "343139    2443347  465784886_73090545671  136329900_10529659391_316129   \n",
       "343140    2443347  465784886_73090545671  136329900_10529659391_316129   \n",
       "\n",
       "       process_step            date_time  \n",
       "0            step_3  2017-04-17 15:27:07  \n",
       "1            step_2  2017-04-17 15:26:51  \n",
       "2            step_3  2017-04-17 15:19:22  \n",
       "3            step_2  2017-04-17 15:19:13  \n",
       "4            step_3  2017-04-17 15:18:04  \n",
       "...             ...                  ...  \n",
       "343136      confirm  2017-03-31 15:15:46  \n",
       "343137       step_3  2017-03-31 15:14:53  \n",
       "343138       step_2  2017-03-31 15:12:08  \n",
       "343139       step_1  2017-03-31 15:11:37  \n",
       "343140        start  2017-03-31 15:10:47  \n",
       "\n",
       "[343141 rows x 5 columns]"
      ]
     },
     "metadata": {},
     "output_type": "display_data"
    }
   ],
   "source": [
    "print(df_interaction1.describe())\n",
    "display(df_interaction1)"
   ]
  },
  {
   "cell_type": "code",
   "execution_count": 70,
   "id": "35082b8e-f5d7-4707-855d-ab29797d700c",
   "metadata": {},
   "outputs": [
    {
     "name": "stdout",
     "output_type": "stream",
     "text": [
      "          client_id\n",
      "count  4.122640e+05\n",
      "mean   5.028227e+06\n",
      "std    2.881828e+06\n",
      "min    3.360000e+02\n",
      "25%    2.533952e+06\n",
      "50%    5.056314e+06\n",
      "75%    7.516792e+06\n",
      "max    9.999875e+06\n"
     ]
    },
    {
     "data": {
      "text/html": [
       "<div>\n",
       "<style scoped>\n",
       "    .dataframe tbody tr th:only-of-type {\n",
       "        vertical-align: middle;\n",
       "    }\n",
       "\n",
       "    .dataframe tbody tr th {\n",
       "        vertical-align: top;\n",
       "    }\n",
       "\n",
       "    .dataframe thead th {\n",
       "        text-align: right;\n",
       "    }\n",
       "</style>\n",
       "<table border=\"1\" class=\"dataframe\">\n",
       "  <thead>\n",
       "    <tr style=\"text-align: right;\">\n",
       "      <th></th>\n",
       "      <th>client_id</th>\n",
       "      <th>visitor_id</th>\n",
       "      <th>visit_id</th>\n",
       "      <th>process_step</th>\n",
       "      <th>date_time</th>\n",
       "    </tr>\n",
       "  </thead>\n",
       "  <tbody>\n",
       "    <tr>\n",
       "      <th>0</th>\n",
       "      <td>763412</td>\n",
       "      <td>601952081_10457207388</td>\n",
       "      <td>397475557_40440946728_419634</td>\n",
       "      <td>confirm</td>\n",
       "      <td>2017-06-06 08:56:00</td>\n",
       "    </tr>\n",
       "    <tr>\n",
       "      <th>1</th>\n",
       "      <td>6019349</td>\n",
       "      <td>442094451_91531546617</td>\n",
       "      <td>154620534_35331068705_522317</td>\n",
       "      <td>confirm</td>\n",
       "      <td>2017-06-01 11:59:27</td>\n",
       "    </tr>\n",
       "    <tr>\n",
       "      <th>2</th>\n",
       "      <td>6019349</td>\n",
       "      <td>442094451_91531546617</td>\n",
       "      <td>154620534_35331068705_522317</td>\n",
       "      <td>step_3</td>\n",
       "      <td>2017-06-01 11:58:48</td>\n",
       "    </tr>\n",
       "    <tr>\n",
       "      <th>3</th>\n",
       "      <td>6019349</td>\n",
       "      <td>442094451_91531546617</td>\n",
       "      <td>154620534_35331068705_522317</td>\n",
       "      <td>step_2</td>\n",
       "      <td>2017-06-01 11:58:08</td>\n",
       "    </tr>\n",
       "    <tr>\n",
       "      <th>4</th>\n",
       "      <td>6019349</td>\n",
       "      <td>442094451_91531546617</td>\n",
       "      <td>154620534_35331068705_522317</td>\n",
       "      <td>step_1</td>\n",
       "      <td>2017-06-01 11:57:58</td>\n",
       "    </tr>\n",
       "    <tr>\n",
       "      <th>...</th>\n",
       "      <td>...</td>\n",
       "      <td>...</td>\n",
       "      <td>...</td>\n",
       "      <td>...</td>\n",
       "      <td>...</td>\n",
       "    </tr>\n",
       "    <tr>\n",
       "      <th>412259</th>\n",
       "      <td>9668240</td>\n",
       "      <td>388766751_9038881013</td>\n",
       "      <td>922267647_3096648104_968866</td>\n",
       "      <td>start</td>\n",
       "      <td>2017-05-24 18:46:10</td>\n",
       "    </tr>\n",
       "    <tr>\n",
       "      <th>412260</th>\n",
       "      <td>9668240</td>\n",
       "      <td>388766751_9038881013</td>\n",
       "      <td>922267647_3096648104_968866</td>\n",
       "      <td>start</td>\n",
       "      <td>2017-05-24 18:45:29</td>\n",
       "    </tr>\n",
       "    <tr>\n",
       "      <th>412261</th>\n",
       "      <td>9668240</td>\n",
       "      <td>388766751_9038881013</td>\n",
       "      <td>922267647_3096648104_968866</td>\n",
       "      <td>step_1</td>\n",
       "      <td>2017-05-24 18:44:51</td>\n",
       "    </tr>\n",
       "    <tr>\n",
       "      <th>412262</th>\n",
       "      <td>9668240</td>\n",
       "      <td>388766751_9038881013</td>\n",
       "      <td>922267647_3096648104_968866</td>\n",
       "      <td>start</td>\n",
       "      <td>2017-05-24 18:44:34</td>\n",
       "    </tr>\n",
       "    <tr>\n",
       "      <th>412263</th>\n",
       "      <td>674799</td>\n",
       "      <td>947159805_81558194550</td>\n",
       "      <td>86152093_47511127657_716022</td>\n",
       "      <td>start</td>\n",
       "      <td>2017-06-03 12:17:09</td>\n",
       "    </tr>\n",
       "  </tbody>\n",
       "</table>\n",
       "<p>412264 rows × 5 columns</p>\n",
       "</div>"
      ],
      "text/plain": [
       "        client_id             visitor_id                      visit_id  \\\n",
       "0          763412  601952081_10457207388  397475557_40440946728_419634   \n",
       "1         6019349  442094451_91531546617  154620534_35331068705_522317   \n",
       "2         6019349  442094451_91531546617  154620534_35331068705_522317   \n",
       "3         6019349  442094451_91531546617  154620534_35331068705_522317   \n",
       "4         6019349  442094451_91531546617  154620534_35331068705_522317   \n",
       "...           ...                    ...                           ...   \n",
       "412259    9668240   388766751_9038881013   922267647_3096648104_968866   \n",
       "412260    9668240   388766751_9038881013   922267647_3096648104_968866   \n",
       "412261    9668240   388766751_9038881013   922267647_3096648104_968866   \n",
       "412262    9668240   388766751_9038881013   922267647_3096648104_968866   \n",
       "412263     674799  947159805_81558194550   86152093_47511127657_716022   \n",
       "\n",
       "       process_step            date_time  \n",
       "0           confirm  2017-06-06 08:56:00  \n",
       "1           confirm  2017-06-01 11:59:27  \n",
       "2            step_3  2017-06-01 11:58:48  \n",
       "3            step_2  2017-06-01 11:58:08  \n",
       "4            step_1  2017-06-01 11:57:58  \n",
       "...             ...                  ...  \n",
       "412259        start  2017-05-24 18:46:10  \n",
       "412260        start  2017-05-24 18:45:29  \n",
       "412261       step_1  2017-05-24 18:44:51  \n",
       "412262        start  2017-05-24 18:44:34  \n",
       "412263        start  2017-06-03 12:17:09  \n",
       "\n",
       "[412264 rows x 5 columns]"
      ]
     },
     "metadata": {},
     "output_type": "display_data"
    }
   ],
   "source": [
    "print(df_interaction2.describe())\n",
    "display(df_interaction2)"
   ]
  },
  {
   "cell_type": "code",
   "execution_count": 71,
   "id": "3c739393-d57c-47bd-b246-c61ae791add2",
   "metadata": {},
   "outputs": [
    {
     "name": "stdout",
     "output_type": "stream",
     "text": [
      "          client_id\n",
      "count  7.060900e+04\n",
      "mean   5.004992e+06\n",
      "std    2.877278e+06\n",
      "min    1.690000e+02\n",
      "25%    2.519329e+06\n",
      "50%    5.016978e+06\n",
      "75%    7.483085e+06\n",
      "max    9.999839e+06\n"
     ]
    },
    {
     "data": {
      "text/html": [
       "<div>\n",
       "<style scoped>\n",
       "    .dataframe tbody tr th:only-of-type {\n",
       "        vertical-align: middle;\n",
       "    }\n",
       "\n",
       "    .dataframe tbody tr th {\n",
       "        vertical-align: top;\n",
       "    }\n",
       "\n",
       "    .dataframe thead th {\n",
       "        text-align: right;\n",
       "    }\n",
       "</style>\n",
       "<table border=\"1\" class=\"dataframe\">\n",
       "  <thead>\n",
       "    <tr style=\"text-align: right;\">\n",
       "      <th></th>\n",
       "      <th>client_id</th>\n",
       "      <th>Variation</th>\n",
       "    </tr>\n",
       "  </thead>\n",
       "  <tbody>\n",
       "    <tr>\n",
       "      <th>0</th>\n",
       "      <td>9988021</td>\n",
       "      <td>Test</td>\n",
       "    </tr>\n",
       "    <tr>\n",
       "      <th>1</th>\n",
       "      <td>8320017</td>\n",
       "      <td>Test</td>\n",
       "    </tr>\n",
       "    <tr>\n",
       "      <th>2</th>\n",
       "      <td>4033851</td>\n",
       "      <td>Control</td>\n",
       "    </tr>\n",
       "    <tr>\n",
       "      <th>3</th>\n",
       "      <td>1982004</td>\n",
       "      <td>Test</td>\n",
       "    </tr>\n",
       "    <tr>\n",
       "      <th>4</th>\n",
       "      <td>9294070</td>\n",
       "      <td>Control</td>\n",
       "    </tr>\n",
       "    <tr>\n",
       "      <th>...</th>\n",
       "      <td>...</td>\n",
       "      <td>...</td>\n",
       "    </tr>\n",
       "    <tr>\n",
       "      <th>70604</th>\n",
       "      <td>2443347</td>\n",
       "      <td>NaN</td>\n",
       "    </tr>\n",
       "    <tr>\n",
       "      <th>70605</th>\n",
       "      <td>8788427</td>\n",
       "      <td>NaN</td>\n",
       "    </tr>\n",
       "    <tr>\n",
       "      <th>70606</th>\n",
       "      <td>266828</td>\n",
       "      <td>NaN</td>\n",
       "    </tr>\n",
       "    <tr>\n",
       "      <th>70607</th>\n",
       "      <td>1266421</td>\n",
       "      <td>NaN</td>\n",
       "    </tr>\n",
       "    <tr>\n",
       "      <th>70608</th>\n",
       "      <td>9895983</td>\n",
       "      <td>NaN</td>\n",
       "    </tr>\n",
       "  </tbody>\n",
       "</table>\n",
       "<p>70609 rows × 2 columns</p>\n",
       "</div>"
      ],
      "text/plain": [
       "       client_id Variation\n",
       "0        9988021      Test\n",
       "1        8320017      Test\n",
       "2        4033851   Control\n",
       "3        1982004      Test\n",
       "4        9294070   Control\n",
       "...          ...       ...\n",
       "70604    2443347       NaN\n",
       "70605    8788427       NaN\n",
       "70606     266828       NaN\n",
       "70607    1266421       NaN\n",
       "70608    9895983       NaN\n",
       "\n",
       "[70609 rows x 2 columns]"
      ]
     },
     "metadata": {},
     "output_type": "display_data"
    }
   ],
   "source": [
    "print(df_variation.describe())\n",
    "display(df_variation)"
   ]
  },
  {
   "cell_type": "code",
   "execution_count": 72,
   "id": "de8cf955-8253-4392-93de-8dfcabbf1fec",
   "metadata": {},
   "outputs": [
    {
     "name": "stdout",
     "output_type": "stream",
     "text": [
      "(50.0, 60.0]      15549\n",
      "(-0.001, 30.0]    14024\n",
      "(30.0, 40.0]      12930\n",
      "(40.0, 50.0]      12590\n",
      "(60.0, 70.0]      11571\n",
      "(70.0, 80.0]       3319\n",
      "(80.0, 90.0]        570\n",
      "(90.0, 100.0]        41\n",
      "Name: count, dtype: int64\n"
     ]
    }
   ],
   "source": [
    "age_segments = df_client['clnt_age'].value_counts(bins=[0, 30, 40, 50, 60, 70, 80, 90, 100])\n",
    "print(age_segments)"
   ]
  },
  {
   "cell_type": "code",
   "execution_count": 73,
   "id": "e2f6aec4-35b3-466f-9277-cd431420c033",
   "metadata": {},
   "outputs": [
    {
     "name": "stdout",
     "output_type": "stream",
     "text": [
      "client_id            0\n",
      "clnt_tenure_yr      14\n",
      "clnt_tenure_mnth    14\n",
      "clnt_age            15\n",
      "gendr               14\n",
      "num_accts           14\n",
      "bal                 14\n",
      "calls_6_mnth        14\n",
      "logons_6_mnth       14\n",
      "dtype: int64\n"
     ]
    }
   ],
   "source": [
    "print(df_client.isnull().sum())"
   ]
  },
  {
   "cell_type": "code",
   "execution_count": 74,
   "id": "4088fc0c-3a29-46c9-8640-9700f75c9df9",
   "metadata": {},
   "outputs": [
    {
     "name": "stdout",
     "output_type": "stream",
     "text": [
      "client_id        0\n",
      "Variation    20109\n",
      "dtype: int64\n"
     ]
    }
   ],
   "source": [
    "print(df_variation.isnull().sum())"
   ]
  },
  {
   "cell_type": "markdown",
   "id": "b2e342e1-d838-4dfa-ab42-b76086383ff9",
   "metadata": {},
   "source": [
    "**Cleaning**"
   ]
  },
  {
   "cell_type": "code",
   "execution_count": 75,
   "id": "602a7f8b-bb7b-4815-a145-4d7cbcf4e750",
   "metadata": {},
   "outputs": [
    {
     "name": "stdout",
     "output_type": "stream",
     "text": [
      "       client_id  clnt_tenure_yr  clnt_tenure_mnth  clnt_age gendr  num_accts  \\\n",
      "4164     7402828             NaN               NaN       NaN   NaN        NaN   \n",
      "8316      355337             NaN               NaN       NaN   NaN        NaN   \n",
      "8677     8412164             NaN               NaN       NaN   NaN        NaN   \n",
      "9583     4666211             8.0             106.0       NaN     F        2.0   \n",
      "13444    2222915             NaN               NaN       NaN   NaN        NaN   \n",
      "18066    4876926             NaN               NaN       NaN   NaN        NaN   \n",
      "25961    5277910             NaN               NaN       NaN   NaN        NaN   \n",
      "28432    7616759             NaN               NaN       NaN   NaN        NaN   \n",
      "35323    8191345             NaN               NaN       NaN   NaN        NaN   \n",
      "43518    1227228             NaN               NaN       NaN   NaN        NaN   \n",
      "46076    8611797             NaN               NaN       NaN   NaN        NaN   \n",
      "47189    5144725             NaN               NaN       NaN   NaN        NaN   \n",
      "49846    1037867             NaN               NaN       NaN   NaN        NaN   \n",
      "63701    1618749             NaN               NaN       NaN   NaN        NaN   \n",
      "66219    6021001             NaN               NaN       NaN   NaN        NaN   \n",
      "\n",
      "            bal  calls_6_mnth  logons_6_mnth  \n",
      "4164        NaN           NaN            NaN  \n",
      "8316        NaN           NaN            NaN  \n",
      "8677        NaN           NaN            NaN  \n",
      "9583   42550.55           4.0            7.0  \n",
      "13444       NaN           NaN            NaN  \n",
      "18066       NaN           NaN            NaN  \n",
      "25961       NaN           NaN            NaN  \n",
      "28432       NaN           NaN            NaN  \n",
      "35323       NaN           NaN            NaN  \n",
      "43518       NaN           NaN            NaN  \n",
      "46076       NaN           NaN            NaN  \n",
      "47189       NaN           NaN            NaN  \n",
      "49846       NaN           NaN            NaN  \n",
      "63701       NaN           NaN            NaN  \n",
      "66219       NaN           NaN            NaN  \n"
     ]
    }
   ],
   "source": [
    "null_rows = df_client[df_client.isnull().any(axis=1)]\n",
    "print(null_rows)"
   ]
  },
  {
   "cell_type": "code",
   "execution_count": 76,
   "id": "de7a9352-2f03-4e52-bc59-2158d8c19770",
   "metadata": {},
   "outputs": [],
   "source": [
    "df_client_new = df_client.dropna()"
   ]
  },
  {
   "cell_type": "code",
   "execution_count": 77,
   "id": "98492a8e-0b41-4e27-a714-7417f4b69d43",
   "metadata": {},
   "outputs": [
    {
     "name": "stdout",
     "output_type": "stream",
     "text": [
      "       client_id Variation\n",
      "50500    5459747       NaN\n",
      "50501    8031000       NaN\n",
      "50502    1847030       NaN\n",
      "50503    9713157       NaN\n",
      "50504    7775828       NaN\n",
      "...          ...       ...\n",
      "70604    2443347       NaN\n",
      "70605    8788427       NaN\n",
      "70606     266828       NaN\n",
      "70607    1266421       NaN\n",
      "70608    9895983       NaN\n",
      "\n",
      "[20109 rows x 2 columns]\n"
     ]
    }
   ],
   "source": [
    "null_rows = df_variation[df_variation.isnull().any(axis=1)]\n",
    "print(null_rows)"
   ]
  },
  {
   "cell_type": "code",
   "execution_count": 78,
   "id": "b02907eb-c89c-4a54-86ae-f4a7eda20bda",
   "metadata": {},
   "outputs": [],
   "source": [
    "df_variation_new = df_variation.dropna()"
   ]
  },
  {
   "cell_type": "markdown",
   "id": "639a42ca-f33e-4c7e-a64e-c80f5979a8eb",
   "metadata": {},
   "source": [
    "**Merging**"
   ]
  },
  {
   "cell_type": "code",
   "execution_count": 79,
   "id": "37aa94c5-a667-49ae-9316-0f1b56ec43d7",
   "metadata": {},
   "outputs": [],
   "source": [
    "df_merged = pd.merge(df_client_new, df_variation_new, on='client_id', how='left')"
   ]
  },
  {
   "cell_type": "code",
   "execution_count": 80,
   "id": "d47c99eb-d599-4869-aa21-9decbff231ba",
   "metadata": {},
   "outputs": [],
   "source": [
    "df_interaction_merged = pd.merge(df_interaction1, df_interaction2, how='outer')"
   ]
  },
  {
   "cell_type": "markdown",
   "id": "fcf713ca-5e4b-49f5-a76f-b94f253156e6",
   "metadata": {},
   "source": [
    "**Converting**"
   ]
  },
  {
   "cell_type": "code",
   "execution_count": 81,
   "id": "5ef9e7f8-b2c8-4a0e-86c1-203ea303ba18",
   "metadata": {},
   "outputs": [],
   "source": [
    "df_interaction_merged['date_time'] = pd.to_datetime(df_interaction_merged['date_time'])"
   ]
  },
  {
   "cell_type": "markdown",
   "id": "28e12049-132b-4fe6-8c5c-0130422c84cd",
   "metadata": {},
   "source": [
    "**Analyze**"
   ]
  },
  {
   "cell_type": "markdown",
   "id": "0f1262ff-eba4-4eae-ad41-fb3b59d0599c",
   "metadata": {},
   "source": [
    "**Clients**"
   ]
  },
  {
   "cell_type": "code",
   "execution_count": 82,
   "id": "a6e066b0-0ff0-4e09-a150-5617c701a9d0",
   "metadata": {},
   "outputs": [],
   "source": [
    "primary_clients = df_interaction_merged[df_interaction_merged['process_step'] == 'start']['client_id'].unique()\n",
    "\n",
    "df_primary_clients_ids = pd.DataFrame(primary_clients, columns=['client_id'])\n",
    "\n",
    "df_primary_clients_info = pd.merge(df_primary_clients_ids, df_client, on='client_id')"
   ]
  },
  {
   "cell_type": "code",
   "execution_count": 83,
   "id": "5a350908-9d61-4a7d-babe-87b37db60ac8",
   "metadata": {},
   "outputs": [
    {
     "data": {
      "text/plain": [
       "count    69999.000000\n",
       "mean        46.392613\n",
       "std         15.562054\n",
       "min         13.500000\n",
       "25%         32.500000\n",
       "50%         47.000000\n",
       "75%         58.500000\n",
       "max         96.000000\n",
       "Name: clnt_age, dtype: float64"
      ]
     },
     "metadata": {},
     "output_type": "display_data"
    }
   ],
   "source": [
    "age_summary = df_primary_clients_info['clnt_age'].describe()\n",
    "display(age_summary)"
   ]
  },
  {
   "cell_type": "code",
   "execution_count": 84,
   "id": "5e32f8e7-13cf-4fbb-8888-89f9008ebdca",
   "metadata": {},
   "outputs": [
    {
     "data": {
      "text/html": [
       "<div>\n",
       "<style scoped>\n",
       "    .dataframe tbody tr th:only-of-type {\n",
       "        vertical-align: middle;\n",
       "    }\n",
       "\n",
       "    .dataframe tbody tr th {\n",
       "        vertical-align: top;\n",
       "    }\n",
       "\n",
       "    .dataframe thead th {\n",
       "        text-align: right;\n",
       "    }\n",
       "</style>\n",
       "<table border=\"1\" class=\"dataframe\">\n",
       "  <thead>\n",
       "    <tr style=\"text-align: right;\">\n",
       "      <th></th>\n",
       "      <th>clnt_tenure_yr</th>\n",
       "      <th>clnt_tenure_mnth</th>\n",
       "    </tr>\n",
       "  </thead>\n",
       "  <tbody>\n",
       "    <tr>\n",
       "      <th>count</th>\n",
       "      <td>70000.000000</td>\n",
       "      <td>70000.000000</td>\n",
       "    </tr>\n",
       "    <tr>\n",
       "      <th>mean</th>\n",
       "      <td>12.030771</td>\n",
       "      <td>150.394100</td>\n",
       "    </tr>\n",
       "    <tr>\n",
       "      <th>std</th>\n",
       "      <td>6.853634</td>\n",
       "      <td>81.873838</td>\n",
       "    </tr>\n",
       "    <tr>\n",
       "      <th>min</th>\n",
       "      <td>2.000000</td>\n",
       "      <td>33.000000</td>\n",
       "    </tr>\n",
       "    <tr>\n",
       "      <th>25%</th>\n",
       "      <td>6.000000</td>\n",
       "      <td>82.000000</td>\n",
       "    </tr>\n",
       "    <tr>\n",
       "      <th>50%</th>\n",
       "      <td>11.000000</td>\n",
       "      <td>136.000000</td>\n",
       "    </tr>\n",
       "    <tr>\n",
       "      <th>75%</th>\n",
       "      <td>16.000000</td>\n",
       "      <td>192.000000</td>\n",
       "    </tr>\n",
       "    <tr>\n",
       "      <th>max</th>\n",
       "      <td>62.000000</td>\n",
       "      <td>749.000000</td>\n",
       "    </tr>\n",
       "  </tbody>\n",
       "</table>\n",
       "</div>"
      ],
      "text/plain": [
       "       clnt_tenure_yr  clnt_tenure_mnth\n",
       "count    70000.000000      70000.000000\n",
       "mean        12.030771        150.394100\n",
       "std          6.853634         81.873838\n",
       "min          2.000000         33.000000\n",
       "25%          6.000000         82.000000\n",
       "50%         11.000000        136.000000\n",
       "75%         16.000000        192.000000\n",
       "max         62.000000        749.000000"
      ]
     },
     "metadata": {},
     "output_type": "display_data"
    }
   ],
   "source": [
    "tenure_summary = df_primary_clients_info[['clnt_tenure_yr', 'clnt_tenure_mnth']].describe()\n",
    "display(tenure_summary)"
   ]
  },
  {
   "cell_type": "code",
   "execution_count": 85,
   "id": "becb6820-3046-48a9-8312-43a74035edbf",
   "metadata": {},
   "outputs": [
    {
     "data": {
      "image/png": "[encoded data removed]",
      "text/plain": [
       "<Figure size 1000x600 with 1 Axes>"
      ]
     },
     "metadata": {},
     "output_type": "display_data"
    }
   ],
   "source": [
    "plt.figure(figsize=(10, 6))\n",
    "sns.histplot(df_primary_clients_info['clnt_age'], bins=20, kde=True)\n",
    "plt.title('Age Distribution of Primary Clients')\n",
    "plt.xlabel('Age')\n",
    "plt.ylabel('Frequency')\n",
    "plt.show()"
   ]
  },
  {
   "cell_type": "code",
   "execution_count": 86,
   "id": "f89432fc-320d-47c6-805e-0da72657a096",
   "metadata": {},
   "outputs": [
    {
     "data": {
      "image/png": "[encoded data removed]",
      "text/plain": [
       "<Figure size 1000x600 with 1 Axes>"
      ]
     },
     "metadata": {},
     "output_type": "display_data"
    }
   ],
   "source": [
    "plt.figure(figsize=(10, 6))\n",
    "sns.histplot(df_primary_clients_info['clnt_tenure_yr'], bins=20, kde=True)\n",
    "plt.title('Tenure Distribution of Primary Clients')\n",
    "plt.xlabel('Tenure (Years)')\n",
    "plt.ylabel('Frequency')\n",
    "plt.show()"
   ]
  },
  {
   "cell_type": "markdown",
   "id": "533c8a48-c6b3-4b89-aaf0-caa11d6143e9",
   "metadata": {},
   "source": [
    "**KPI's Analyze**"
   ]
  },
  {
   "cell_type": "code",
   "execution_count": 87,
   "id": "1b3bd58c-7d37-4114-a234-3a6c812f60d8",
   "metadata": {},
   "outputs": [
    {
     "name": "stdout",
     "output_type": "stream",
     "text": [
      "process_step\n",
      "start      243945\n",
      "step_1     163193\n",
      "step_2     133062\n",
      "step_3     112242\n",
      "confirm    102963\n",
      "Name: count, dtype: int64\n"
     ]
    }
   ],
   "source": [
    "process_steps_count = df_interaction_merged['process_step'].value_counts()\n",
    "print(process_steps_count)"
   ]
  },
  {
   "cell_type": "markdown",
   "id": "b8d94af8-df2d-4d3e-aa1a-da8695c583de",
   "metadata": {},
   "source": [
    "**Completion Rate**"
   ]
  },
  {
   "cell_type": "code",
   "execution_count": 88,
   "id": "33e3375a-6721-4585-b560-49d65d648c96",
   "metadata": {},
   "outputs": [],
   "source": [
    "df_merged_completion = pd.merge(df_interaction_merged, df_variation_new, on='client_id', how='inner')"
   ]
  },
  {
   "cell_type": "code",
   "execution_count": 89,
   "id": "e4d98ee8-6805-4214-80f9-2382ee1cab34",
   "metadata": {},
   "outputs": [],
   "source": [
    "df_completions = df_merged_completion[df_merged_completion['process_step'] == 'confirm']"
   ]
  },
  {
   "cell_type": "code",
   "execution_count": 90,
   "id": "9a578d3c-0ee1-4c99-9b9c-c2c6e15448df",
   "metadata": {},
   "outputs": [
    {
     "data": {
      "text/plain": [
       "Variation\n",
       "Control    0.656040\n",
       "Test       0.693112\n",
       "Name: client_id, dtype: float64"
      ]
     },
     "metadata": {},
     "output_type": "display_data"
    }
   ],
   "source": [
    "total_completion_rate = len(df_completions) / len(df_merged_completion)\n",
    "\n",
    "completion_rates_group = df_completions.groupby('Variation')['client_id'].nunique() / df_merged.groupby('Variation')['client_id'].nunique()\n",
    "display(completion_rates_group)"
   ]
  },
  {
   "cell_type": "code",
   "execution_count": 91,
   "id": "4a143cb6-07fe-4ea9-8e50-bd0cb59207e4",
   "metadata": {},
   "outputs": [],
   "source": [
    "df_full = pd.merge(df_merged_completion, df_client[['client_id', 'clnt_age']], on='client_id', how='inner')"
   ]
  },
  {
   "cell_type": "code",
   "execution_count": 92,
   "id": "2335b9d4-9fff-4df6-96d6-2477e9a79f88",
   "metadata": {},
   "outputs": [],
   "source": [
    "df_full['is_completion'] = df_full['process_step'].apply(lambda x: 1 if x == 'confirm' else 0)"
   ]
  },
  {
   "cell_type": "code",
   "execution_count": 93,
   "id": "e9d81f0e-a9ce-40b3-a381-bc5dc320c556",
   "metadata": {},
   "outputs": [
    {
     "name": "stderr",
     "output_type": "stream",
     "text": [
      "C:\\Users\\vborg\\AppData\\Local\\Temp\\ipykernel_25068\\4254115815.py:2: FutureWarning: The default of observed=False is deprecated and will be changed to True in a future version of pandas. Pass observed=False to retain current behavior or observed=True to adopt the future default and silence this warning.\n",
      "  completion_rate_by_age = df_full.groupby(['age_group', 'Variation'])['is_completion'].mean().unstack()\n"
     ]
    }
   ],
   "source": [
    "df_full['age_group'] = pd.cut(df_full['clnt_age'], bins=[0, 25, 35, 45, 55, 65, 75, 85, 95, 105], labels=[\"0-25\", \"26-35\", \"36-45\", \"46-55\", \"56-65\", \"66-75\", \"76-85\", \"86-95\", \"96-105\"])\n",
    "completion_rate_by_age = df_full.groupby(['age_group', 'Variation'])['is_completion'].mean().unstack()"
   ]
  },
  {
   "cell_type": "code",
   "execution_count": 94,
   "id": "680710a2-5204-4bbb-8482-e08612e48e80",
   "metadata": {},
   "outputs": [
    {
     "data": {
      "image/png": "[encoded data removed]",
      "text/plain": [
       "<Figure size 1400x700 with 1 Axes>"
      ]
     },
     "metadata": {},
     "output_type": "display_data"
    }
   ],
   "source": [
    "completion_rate_by_age.plot(kind='bar', figsize=(14, 7))\n",
    "plt.title('Completion Rate by Age Group and Variation')\n",
    "plt.xlabel('Age Group')\n",
    "plt.ylabel('Completion Rate')\n",
    "plt.xticks(rotation=45)\n",
    "plt.legend(title='Variation')\n",
    "plt.tight_layout()\n",
    "plt.show()"
   ]
  },
  {
   "cell_type": "markdown",
   "id": "cbd62e49-dbda-410f-bc21-ab0bc430d81e",
   "metadata": {},
   "source": [
    "**Time Spent on Each Step**"
   ]
  },
  {
   "cell_type": "code",
   "execution_count": 103,
   "id": "70ba7552-cc09-4ed1-ae29-f5d2f0df6ced",
   "metadata": {},
   "outputs": [],
   "source": [
    "df_sorted = df_merged_completion.sort_values(by=['client_id', 'date_time'], ascending=[False, False])\n",
    "\n",
    "df_filtered = df_sorted.drop_duplicates(subset=['client_id', 'process_step'])"
   ]
  },
  {
   "cell_type": "code",
   "execution_count": 96,
   "id": "ac529a88-c1ea-4285-9494-3eb65dc08630",
   "metadata": {},
   "outputs": [],
   "source": [
    "#df_visits_sorted = df_merged_completion.sort_values(by=['visit_id', 'date_time'])\n",
    "#display(df_visits_sorted)"
   ]
  },
  {
   "cell_type": "code",
   "execution_count": 97,
   "id": "9190f347-1d28-42d3-b140-81dc28999f80",
   "metadata": {},
   "outputs": [],
   "source": [
    "#df_sorted = df_filtered.sort_values(by=['visit_id', 'date_time'])"
   ]
  },
  {
   "cell_type": "code",
   "execution_count": 104,
   "id": "b7f05c2c-f17d-492c-90ec-460e3826c9bf",
   "metadata": {},
   "outputs": [
    {
     "name": "stderr",
     "output_type": "stream",
     "text": [
      "C:\\Users\\vborg\\AppData\\Local\\Temp\\ipykernel_25068\\3029260229.py:1: SettingWithCopyWarning: \n",
      "A value is trying to be set on a copy of a slice from a DataFrame.\n",
      "Try using .loc[row_indexer,col_indexer] = value instead\n",
      "\n",
      "See the caveats in the documentation: https://pandas.pydata.org/pandas-docs/stable/user_guide/indexing.html#returning-a-view-versus-a-copy\n",
      "  df_filtered['next_step_time'] = df_filtered.groupby('client_id')['date_time'].shift(-1)\n",
      "C:\\Users\\vborg\\AppData\\Local\\Temp\\ipykernel_25068\\3029260229.py:3: SettingWithCopyWarning: \n",
      "A value is trying to be set on a copy of a slice from a DataFrame.\n",
      "Try using .loc[row_indexer,col_indexer] = value instead\n",
      "\n",
      "See the caveats in the documentation: https://pandas.pydata.org/pandas-docs/stable/user_guide/indexing.html#returning-a-view-versus-a-copy\n",
      "  df_filtered['time_to_next_step'] = (df_filtered['next_step_time'] - df_filtered['date_time']).dt.total_seconds()\n",
      "C:\\Users\\vborg\\AppData\\Local\\Temp\\ipykernel_25068\\3029260229.py:5: SettingWithCopyWarning: \n",
      "A value is trying to be set on a copy of a slice from a DataFrame.\n",
      "Try using .loc[row_indexer,col_indexer] = value instead\n",
      "\n",
      "See the caveats in the documentation: https://pandas.pydata.org/pandas-docs/stable/user_guide/indexing.html#returning-a-view-versus-a-copy\n",
      "  df_filtered['time_to_next_step_minutes'] = df_filtered['time_to_next_step'] / 60\n"
     ]
    }
   ],
   "source": [
    "df_filtered['next_step_time'] = df_filtered.groupby('client_id')['date_time'].shift(-1)\n",
    "\n",
    "df_filtered['time_to_next_step'] = (df_filtered['next_step_time'] - df_filtered['date_time']).dt.total_seconds()\n",
    "\n",
    "df_filtered['time_to_next_step_minutes'] = df_filtered['time_to_next_step'] / 60"
   ]
  },
  {
   "cell_type": "code",
   "execution_count": 105,
   "id": "db7fda34-9872-4062-b677-0ac59f60c745",
   "metadata": {},
   "outputs": [
    {
     "name": "stderr",
     "output_type": "stream",
     "text": [
      "C:\\Users\\vborg\\AppData\\Local\\Temp\\ipykernel_25068\\2135826661.py:1: SettingWithCopyWarning: \n",
      "A value is trying to be set on a copy of a slice from a DataFrame.\n",
      "Try using .loc[row_indexer,col_indexer] = value instead\n",
      "\n",
      "See the caveats in the documentation: https://pandas.pydata.org/pandas-docs/stable/user_guide/indexing.html#returning-a-view-versus-a-copy\n",
      "  df_filtered['time_spent_on_current_step'] = df_filtered.groupby(['visit_id', 'process_step'])['time_to_next_step_minutes'].transform('first')\n"
     ]
    }
   ],
   "source": [
    "df_filtered['time_spent_on_current_step'] = df_filtered.groupby(['visit_id', 'process_step'])['time_to_next_step_minutes'].transform('first')"
   ]
  },
  {
   "cell_type": "code",
   "execution_count": 106,
   "id": "da06cc73-bca5-4825-9d69-20a0a23684d7",
   "metadata": {},
   "outputs": [
    {
     "data": {
      "text/html": [
       "<div>\n",
       "<style scoped>\n",
       "    .dataframe tbody tr th:only-of-type {\n",
       "        vertical-align: middle;\n",
       "    }\n",
       "\n",
       "    .dataframe tbody tr th {\n",
       "        vertical-align: top;\n",
       "    }\n",
       "\n",
       "    .dataframe thead th {\n",
       "        text-align: right;\n",
       "    }\n",
       "</style>\n",
       "<table border=\"1\" class=\"dataframe\">\n",
       "  <thead>\n",
       "    <tr style=\"text-align: right;\">\n",
       "      <th></th>\n",
       "      <th>client_id</th>\n",
       "      <th>visitor_id</th>\n",
       "      <th>visit_id</th>\n",
       "      <th>process_step</th>\n",
       "      <th>date_time</th>\n",
       "      <th>Variation</th>\n",
       "      <th>next_step_time</th>\n",
       "      <th>time_to_next_step</th>\n",
       "      <th>time_to_next_step_minutes</th>\n",
       "      <th>time_spent_on_current_step</th>\n",
       "    </tr>\n",
       "  </thead>\n",
       "  <tbody>\n",
       "    <tr>\n",
       "      <th>321308</th>\n",
       "      <td>9999832</td>\n",
       "      <td>145538019_54444341400</td>\n",
       "      <td>472154369_16714624241_585315</td>\n",
       "      <td>step_1</td>\n",
       "      <td>2017-05-16 16:46:11</td>\n",
       "      <td>Test</td>\n",
       "      <td>2017-05-16 16:46:03</td>\n",
       "      <td>-8.0</td>\n",
       "      <td>-0.133333</td>\n",
       "      <td>-0.133333</td>\n",
       "    </tr>\n",
       "    <tr>\n",
       "      <th>321307</th>\n",
       "      <td>9999832</td>\n",
       "      <td>145538019_54444341400</td>\n",
       "      <td>472154369_16714624241_585315</td>\n",
       "      <td>start</td>\n",
       "      <td>2017-05-16 16:46:03</td>\n",
       "      <td>Test</td>\n",
       "      <td>NaT</td>\n",
       "      <td>NaN</td>\n",
       "      <td>NaN</td>\n",
       "      <td>NaN</td>\n",
       "    </tr>\n",
       "    <tr>\n",
       "      <th>321298</th>\n",
       "      <td>9999729</td>\n",
       "      <td>834634258_21862004160</td>\n",
       "      <td>870243567_56915814033_814203</td>\n",
       "      <td>confirm</td>\n",
       "      <td>2017-05-08 16:09:40</td>\n",
       "      <td>Test</td>\n",
       "      <td>2017-05-08 16:09:19</td>\n",
       "      <td>-21.0</td>\n",
       "      <td>-0.350000</td>\n",
       "      <td>-0.350000</td>\n",
       "    </tr>\n",
       "    <tr>\n",
       "      <th>321302</th>\n",
       "      <td>9999729</td>\n",
       "      <td>834634258_21862004160</td>\n",
       "      <td>870243567_56915814033_814203</td>\n",
       "      <td>step_3</td>\n",
       "      <td>2017-05-08 16:09:19</td>\n",
       "      <td>Test</td>\n",
       "      <td>2017-05-08 16:08:40</td>\n",
       "      <td>-39.0</td>\n",
       "      <td>-0.650000</td>\n",
       "      <td>-0.650000</td>\n",
       "    </tr>\n",
       "    <tr>\n",
       "      <th>321301</th>\n",
       "      <td>9999729</td>\n",
       "      <td>834634258_21862004160</td>\n",
       "      <td>870243567_56915814033_814203</td>\n",
       "      <td>step_2</td>\n",
       "      <td>2017-05-08 16:08:40</td>\n",
       "      <td>Test</td>\n",
       "      <td>2017-05-08 16:08:30</td>\n",
       "      <td>-10.0</td>\n",
       "      <td>-0.166667</td>\n",
       "      <td>-0.166667</td>\n",
       "    </tr>\n",
       "    <tr>\n",
       "      <th>...</th>\n",
       "      <td>...</td>\n",
       "      <td>...</td>\n",
       "      <td>...</td>\n",
       "      <td>...</td>\n",
       "      <td>...</td>\n",
       "      <td>...</td>\n",
       "      <td>...</td>\n",
       "      <td>...</td>\n",
       "      <td>...</td>\n",
       "      <td>...</td>\n",
       "    </tr>\n",
       "    <tr>\n",
       "      <th>0</th>\n",
       "      <td>555</td>\n",
       "      <td>402506806_56087378777</td>\n",
       "      <td>637149525_38041617439_716659</td>\n",
       "      <td>confirm</td>\n",
       "      <td>2017-04-15 13:00:34</td>\n",
       "      <td>Test</td>\n",
       "      <td>2017-04-15 13:00:14</td>\n",
       "      <td>-20.0</td>\n",
       "      <td>-0.333333</td>\n",
       "      <td>-0.333333</td>\n",
       "    </tr>\n",
       "    <tr>\n",
       "      <th>4</th>\n",
       "      <td>555</td>\n",
       "      <td>402506806_56087378777</td>\n",
       "      <td>637149525_38041617439_716659</td>\n",
       "      <td>step_3</td>\n",
       "      <td>2017-04-15 13:00:14</td>\n",
       "      <td>Test</td>\n",
       "      <td>2017-04-15 12:58:35</td>\n",
       "      <td>-99.0</td>\n",
       "      <td>-1.650000</td>\n",
       "      <td>-1.650000</td>\n",
       "    </tr>\n",
       "    <tr>\n",
       "      <th>3</th>\n",
       "      <td>555</td>\n",
       "      <td>402506806_56087378777</td>\n",
       "      <td>637149525_38041617439_716659</td>\n",
       "      <td>step_2</td>\n",
       "      <td>2017-04-15 12:58:35</td>\n",
       "      <td>Test</td>\n",
       "      <td>2017-04-15 12:58:03</td>\n",
       "      <td>-32.0</td>\n",
       "      <td>-0.533333</td>\n",
       "      <td>-0.533333</td>\n",
       "    </tr>\n",
       "    <tr>\n",
       "      <th>2</th>\n",
       "      <td>555</td>\n",
       "      <td>402506806_56087378777</td>\n",
       "      <td>637149525_38041617439_716659</td>\n",
       "      <td>step_1</td>\n",
       "      <td>2017-04-15 12:58:03</td>\n",
       "      <td>Test</td>\n",
       "      <td>2017-04-15 12:57:56</td>\n",
       "      <td>-7.0</td>\n",
       "      <td>-0.116667</td>\n",
       "      <td>-0.116667</td>\n",
       "    </tr>\n",
       "    <tr>\n",
       "      <th>1</th>\n",
       "      <td>555</td>\n",
       "      <td>402506806_56087378777</td>\n",
       "      <td>637149525_38041617439_716659</td>\n",
       "      <td>start</td>\n",
       "      <td>2017-04-15 12:57:56</td>\n",
       "      <td>Test</td>\n",
       "      <td>NaT</td>\n",
       "      <td>NaN</td>\n",
       "      <td>NaN</td>\n",
       "      <td>NaN</td>\n",
       "    </tr>\n",
       "  </tbody>\n",
       "</table>\n",
       "<p>207827 rows × 10 columns</p>\n",
       "</div>"
      ],
      "text/plain": [
       "        client_id             visitor_id                      visit_id  \\\n",
       "321308    9999832  145538019_54444341400  472154369_16714624241_585315   \n",
       "321307    9999832  145538019_54444341400  472154369_16714624241_585315   \n",
       "321298    9999729  834634258_21862004160  870243567_56915814033_814203   \n",
       "321302    9999729  834634258_21862004160  870243567_56915814033_814203   \n",
       "321301    9999729  834634258_21862004160  870243567_56915814033_814203   \n",
       "...           ...                    ...                           ...   \n",
       "0             555  402506806_56087378777  637149525_38041617439_716659   \n",
       "4             555  402506806_56087378777  637149525_38041617439_716659   \n",
       "3             555  402506806_56087378777  637149525_38041617439_716659   \n",
       "2             555  402506806_56087378777  637149525_38041617439_716659   \n",
       "1             555  402506806_56087378777  637149525_38041617439_716659   \n",
       "\n",
       "       process_step           date_time Variation      next_step_time  \\\n",
       "321308       step_1 2017-05-16 16:46:11      Test 2017-05-16 16:46:03   \n",
       "321307        start 2017-05-16 16:46:03      Test                 NaT   \n",
       "321298      confirm 2017-05-08 16:09:40      Test 2017-05-08 16:09:19   \n",
       "321302       step_3 2017-05-08 16:09:19      Test 2017-05-08 16:08:40   \n",
       "321301       step_2 2017-05-08 16:08:40      Test 2017-05-08 16:08:30   \n",
       "...             ...                 ...       ...                 ...   \n",
       "0           confirm 2017-04-15 13:00:34      Test 2017-04-15 13:00:14   \n",
       "4            step_3 2017-04-15 13:00:14      Test 2017-04-15 12:58:35   \n",
       "3            step_2 2017-04-15 12:58:35      Test 2017-04-15 12:58:03   \n",
       "2            step_1 2017-04-15 12:58:03      Test 2017-04-15 12:57:56   \n",
       "1             start 2017-04-15 12:57:56      Test                 NaT   \n",
       "\n",
       "        time_to_next_step  time_to_next_step_minutes  \\\n",
       "321308               -8.0                  -0.133333   \n",
       "321307                NaN                        NaN   \n",
       "321298              -21.0                  -0.350000   \n",
       "321302              -39.0                  -0.650000   \n",
       "321301              -10.0                  -0.166667   \n",
       "...                   ...                        ...   \n",
       "0                   -20.0                  -0.333333   \n",
       "4                   -99.0                  -1.650000   \n",
       "3                   -32.0                  -0.533333   \n",
       "2                    -7.0                  -0.116667   \n",
       "1                     NaN                        NaN   \n",
       "\n",
       "        time_spent_on_current_step  \n",
       "321308                   -0.133333  \n",
       "321307                         NaN  \n",
       "321298                   -0.350000  \n",
       "321302                   -0.650000  \n",
       "321301                   -0.166667  \n",
       "...                            ...  \n",
       "0                        -0.333333  \n",
       "4                        -1.650000  \n",
       "3                        -0.533333  \n",
       "2                        -0.116667  \n",
       "1                              NaN  \n",
       "\n",
       "[207827 rows x 10 columns]"
      ]
     },
     "metadata": {},
     "output_type": "display_data"
    }
   ],
   "source": [
    "display(df_filtered)"
   ]
  },
  {
   "cell_type": "code",
   "execution_count": 101,
   "id": "de44b413-0376-4e74-b69a-d2b7578e6afc",
   "metadata": {},
   "outputs": [
    {
     "ename": "NameError",
     "evalue": "name 'average_time_per_step_minutes' is not defined",
     "output_type": "error",
     "traceback": [
      "\u001b[1;31m---------------------------------------------------------------------------\u001b[0m",
      "\u001b[1;31mNameError\u001b[0m                                 Traceback (most recent call last)",
      "Cell \u001b[1;32mIn[101], line 1\u001b[0m\n\u001b[1;32m----> 1\u001b[0m \u001b[43maverage_time_per_step_minutes\u001b[49m\u001b[38;5;241m.\u001b[39mplot(kind\u001b[38;5;241m=\u001b[39m\u001b[38;5;124m'\u001b[39m\u001b[38;5;124mbar\u001b[39m\u001b[38;5;124m'\u001b[39m, figsize\u001b[38;5;241m=\u001b[39m(\u001b[38;5;241m14\u001b[39m, \u001b[38;5;241m7\u001b[39m))\n\u001b[0;32m      2\u001b[0m plt\u001b[38;5;241m.\u001b[39mtitle(\u001b[38;5;124m'\u001b[39m\u001b[38;5;124mAverage Time Spent on Each Step by Variation (in minutes)\u001b[39m\u001b[38;5;124m'\u001b[39m)\n\u001b[0;32m      3\u001b[0m plt\u001b[38;5;241m.\u001b[39mxlabel(\u001b[38;5;124m'\u001b[39m\u001b[38;5;124mProcess Step\u001b[39m\u001b[38;5;124m'\u001b[39m)\n",
      "\u001b[1;31mNameError\u001b[0m: name 'average_time_per_step_minutes' is not defined"
     ]
    }
   ],
   "source": [
    "average_time_per_step_minutes.plot(kind='bar', figsize=(14, 7))\n",
    "plt.title('Average Time Spent on Each Step by Variation (in minutes)')\n",
    "plt.xlabel('Process Step')\n",
    "plt.ylabel('Average Time Spent (minutes)')\n",
    "plt.xticks(rotation=45)\n",
    "plt.legend(title='Variation')\n",
    "plt.tight_layout()\n",
    "plt.show()"
   ]
  },
  {
   "cell_type": "code",
   "execution_count": null,
   "id": "b604b9e3-ba69-4afc-911c-13032a96739a",
   "metadata": {},
   "outputs": [],
   "source": [
    "time_spent_avg = df_sorted.groupby('process_step')['time_spent_on_current_step'].mean().reset_index()\n",
    "process_order = ['start', 'step_1', 'step_2', 'step_3', 'confirm']\n",
    "time_spent_avg['process_step'] = pd.Categorical(time_spent_avg['process_step'], categories=process_order, ordered=True)\n",
    "time_spent_avg = time_spent_avg.sort_values('process_step')"
   ]
  },
  {
   "cell_type": "code",
   "execution_count": null,
   "id": "9fc88568-dd8c-4f06-94bb-80a23518ac76",
   "metadata": {},
   "outputs": [],
   "source": [
    "plt.figure(figsize=(10, 6))\n",
    "sns.barplot(x='process_step', y='time_spent_on_current_step', data=time_spent_avg, palette=\"viridis\")\n",
    "plt.title('Average Time Spent on Each Step')\n",
    "plt.xlabel('Process Step')\n",
    "plt.ylabel('Average Time Spent (minutes)')\n",
    "plt.show()"
   ]
  },
  {
   "cell_type": "code",
   "execution_count": null,
   "id": "60fe7b3b-967a-40bc-89e2-5e161b1335ff",
   "metadata": {},
   "outputs": [],
   "source": [
    "max_time_row = df_sorted.loc[df_sorted['time_to_next_step'].idxmax()]\n",
    "\n",
    "print(max_time_row)"
   ]
  },
  {
   "cell_type": "code",
   "execution_count": null,
   "id": "bcf2bab3-5a6c-4c31-bfbd-95d74d382bbe",
   "metadata": {},
   "outputs": [],
   "source": [
    "total_time_per_user = df_sorted.groupby('visit_id')['time_to_next_step'].sum().reset_index()\n",
    "\n",
    "user_reached_confirm = df_sorted[df_sorted['process_step'] == 'confirm'].groupby('visit_id').size().reset_index(name='reached_confirm')\n",
    "\n",
    "user_reached_confirm['reached_confirm'] = True\n",
    "\n",
    "final_df = pd.merge(total_time_per_user, user_reached_confirm, on='visit_id', how='left').fillna(False)\n",
    "\n",
    "final_df.rename(columns={'time_to_next_step': 'total_time_spent', 'reached_confirm': 'reached_confirm_step'}, inplace=True)\n",
    "\n",
    "final_df.head(60) "
   ]
  },
  {
   "cell_type": "code",
   "execution_count": null,
   "id": "62f67ee0-03b9-44c3-96f9-6e450c47bd54",
   "metadata": {},
   "outputs": [],
   "source": [
    "time_bins = [200, 400, 1000, 5000, 10000, 30000]  # example bins for every 10 minutes up to 300 minutes\n",
    "\n",
    "# Create a new column in your DataFrame for the binned total time\n",
    "final_df['time_bin'] = pd.cut(final_df['total_time_spent'], bins=time_bins, include_lowest=True)\n",
    "\n",
    "# Count the number of users in each bin\n",
    "time_bin_counts = final_df['time_bin'].value_counts().sort_index()"
   ]
  },
  {
   "cell_type": "code",
   "execution_count": null,
   "id": "18e93f03-825a-42cb-bfe0-b9672e205ad5",
   "metadata": {},
   "outputs": [],
   "source": [
    "confirm_rate_by_bin = final_df.groupby('time_bin')['reached_confirm_step'].mean()"
   ]
  },
  {
   "cell_type": "code",
   "execution_count": null,
   "id": "a31c6bbc-5ba1-4a44-b586-d34050afa8ae",
   "metadata": {},
   "outputs": [],
   "source": [
    "fig, ax1 = plt.subplots(figsize=(12, 6))\n",
    "\n",
    "# Bar plot for the count of users in each bin\n",
    "ax1.bar(time_bin_counts.index.astype(str), time_bin_counts.values, color='skyblue', alpha=0.6, label='User Count')\n",
    "\n",
    "# Make a plot with a different y-axis using twinx\n",
    "ax2 = ax1.twinx()\n",
    "ax2.plot(confirm_rate_by_bin.index.astype(str), confirm_rate_by_bin.values, color='green', label='Confirm Rate', marker='o')\n",
    "\n",
    "# Set the labels and titles\n",
    "ax1.set_xlabel('Total Time Spent Bins (minutes)')\n",
    "ax1.set_ylabel('User Count', color='skyblue')\n",
    "ax2.set_ylabel('Confirm Rate', color='green')\n",
    "ax1.set_title('User Count and Confirm Rate by Total Time Spent Bins')\n",
    "\n",
    "# Add legends\n",
    "ax1.legend(loc='upper left')\n",
    "ax2.legend(loc='upper right')\n",
    "\n",
    "# Show the plot\n",
    "plt.show()"
   ]
  },
  {
   "cell_type": "code",
   "execution_count": null,
   "id": "61f184a7-0625-4180-92ed-f239bbe4f16f",
   "metadata": {},
   "outputs": [],
   "source": []
  }
 ],
 "metadata": {
  "kernelspec": {
   "display_name": "Myproject",
   "language": "python",
   "name": "myproject"
  },
  "language_info": {
   "codemirror_mode": {
    "name": "ipython",
    "version": 3
   },
   "file_extension": ".py",
   "mimetype": "text/x-python",
   "name": "python",
   "nbconvert_exporter": "python",
   "pygments_lexer": "ipython3",
   "version": "3.11.5"
  }
 },
 "nbformat": 4,
 "nbformat_minor": 5
}
